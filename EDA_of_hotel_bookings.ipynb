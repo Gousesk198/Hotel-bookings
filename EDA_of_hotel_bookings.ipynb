{
  "nbformat": 4,
  "nbformat_minor": 0,
  "metadata": {
    "colab": {
      "private_outputs": true,
      "provenance": [],
      "collapsed_sections": [
        "gIfDvo9L0UH2"
      ],
      "include_colab_link": true
    },
    "kernelspec": {
      "name": "python3",
      "display_name": "Python 3"
    },
    "language_info": {
      "name": "python"
    }
  },
  "cells": [
    {
      "cell_type": "markdown",
      "metadata": {
        "id": "view-in-github",
        "colab_type": "text"
      },
      "source": [
        "<a href=\"https://colab.research.google.com/github/Gousesk198/Hotel-bookings/blob/main/EDA_of_hotel_bookings.ipynb\" target=\"_parent\"><img src=\"https://colab.research.google.com/assets/colab-badge.svg\" alt=\"Open In Colab\"/></a>"
      ]
    },
    {
      "cell_type": "markdown",
      "source": [
        "# **Project Name**    -\n",
        "\n"
      ],
      "metadata": {
        "id": "vncDsAP0Gaoa"
      }
    },
    {
      "cell_type": "markdown",
      "source": [
        "##### **Project Type**    - EDA\n",
        "##### **Project Name**    - Hotel Booking Analysis\n",
        "##### **Contribution**    - Individual\n",
        "##### **Name -** Shaik Gouse Mastan Vali\n",
        "##### **Description -** I have been working as a database developer in the banking domain for the past 2.8 years. My job involves handling large amounts of data(60 crs) related to customer transactions and redemptions, to assist the data science team. I work with three major banks - Federal Bank, Indian Bank, and South Indian Bank."
      ],
      "metadata": {
        "id": "beRrZCGUAJYm"
      }
    },
    {
      "cell_type": "markdown",
      "source": [
        "# **Project Summary -**"
      ],
      "metadata": {
        "id": "FJNUwmbgGyua"
      }
    },
    {
      "cell_type": "markdown",
      "source": [
        "The provided dataset focuses on hotel bookings and cancellations for two types of hotels - city hotels and resort hotels. The dataset includes information on customers from various countries who booked their stay through travel agents or tourism agencies. The dataset is comprehensive, and it includes data on the length of customer stays, the month in which the booking was made, the category of room assigned, and whether the booking was made on a weekday or weekend. Additionally, the dataset provides data on whether the customer made a deposit and the category of food they ordered.\n",
        "\n",
        "One unique feature of the dataset is the tracking of repeat customers, which enables the exploration of customer loyalty and behavior over time. The dataset also includes information on the travel agents or tourism agencies involved in the bookings, allowing for the exploration of relationships between the hotel and its network of partners.\n",
        "\n",
        "The dataset offers a wide range of variables that can be analyzed to identify trends and patterns to better understand customer behavior and improve hotel services and offerings. The data can be used to answer various questions related to hotel bookings, cancellations, and customer behavior. For instance, the data can be used to identify the most effective travel agents in bringing in new customers or to determine the most popular categories of food or room type"
      ],
      "metadata": {
        "id": "F6v_1wHtG2nS"
      }
    },
    {
      "cell_type": "markdown",
      "source": [
        "# **GitHub Link -**"
      ],
      "metadata": {
        "id": "w6K7xa23Elo4"
      }
    },
    {
      "cell_type": "markdown",
      "source": [
        "https://github.com/Gousesk198/Hotel-bookings.git"
      ],
      "metadata": {
        "id": "h1o69JH3Eqqn"
      }
    },
    {
      "cell_type": "markdown",
      "source": [
        "# **Problem Statement**\n"
      ],
      "metadata": {
        "id": "yQaldy8SH6Dl"
      }
    },
    {
      "cell_type": "markdown",
      "source": [
        "**Write Problem Statement Here.**\n",
        "\n",
        "**UNIVARIATE ANALYSIS**\n",
        "\n",
        "1.   Which agent makes the most bookings for the customers?\n",
        "\n",
        "1.   Which room types are most demanded and which room types generate high ADR?\n",
        "\n",
        "1.   What is the percentage of bookings in each hotel?\n",
        "\n",
        "1.   Which hotel makes more revenue?\n",
        "\n",
        "1.   What is the preferred stay length in each hotel?\n",
        "\n",
        "2.   Which hotel has a long waiting time?\n",
        "\n",
        "2.   Which hotel has the highest booking and cancellation rate?\n",
        "\n",
        "2.   Which hotel has the highest repeated customers?\n",
        "\n",
        "**BIVARIATE ANALYSIS**\n",
        "\n",
        "\n",
        "\n",
        "1.   Which is the most common channel for booking hotels?\n",
        "\n",
        "1.   Which channel is mostly used for early booking of hotels?\n",
        "\n",
        "1.   Which channel has a longer average waiting time?\n",
        "2.   Which distribution channel brings better revenue-generating deals for hotels?\n",
        "\n",
        "2.   Which significant distribution channel has the highest cancellation percentage?\n",
        "\n",
        "2.   Which category of customers made the most bookings?\n",
        "\n",
        "1.   From which country are customers mostly visiting?\n",
        "\n",
        "\n",
        "**TIME-WISE ANALYSIS**\n",
        "\n",
        "\n",
        "\n",
        "1.   Which are the busiest months?\n",
        "\n",
        "1.   Which month generates high revenue for the hotel?\n",
        "2.   We will check the trend of arrival_num and avg ADR within a month?\n",
        "\n",
        "**CORRELATION**\n",
        "\n",
        "\n",
        "1.   What is the correlation between numerical variables?\n",
        "\n",
        "\n",
        "\n",
        "\n",
        "\n"
      ],
      "metadata": {
        "id": "DpeJGUA3kjGy"
      }
    },
    {
      "cell_type": "markdown",
      "source": [
        "#### **Define Your Business Objective?**"
      ],
      "metadata": {
        "id": "PH-0ReGfmX4f"
      }
    },
    {
      "cell_type": "markdown",
      "source": [
        "**Answer Here:**\n",
        "\n",
        "\n",
        "1.   What are the main business objectives for understanding a complete situation of a dataset?\n",
        "\n",
        "1.   What are the negative points affecting the business and why are they negative?\n",
        "2.   Can you provide suggestions for improving the business based on the analysis of the dataset?\n",
        "\n",
        "\n",
        ""
      ],
      "metadata": {
        "id": "PhDvGCAqmjP1"
      }
    },
    {
      "cell_type": "markdown",
      "source": [
        "# **General Guidelines** : -"
      ],
      "metadata": {
        "id": "mDgbUHAGgjLW"
      }
    },
    {
      "cell_type": "markdown",
      "source": [
        "1.   Well-structured, formatted, and commented code is required.\n",
        "2.   Exception Handling, Production Grade Code & Deployment Ready Code will be a plus. Those students will be awarded some additional credits.\n",
        "\n",
        "     The additional credits will have advantages over other students during Star Student selection.\n",
        "\n",
        "             [ Note: - Deployment Ready Code is defined as, the whole .ipynb notebook should be executable in one go\n",
        "                       without a single error logged. ]\n",
        "\n",
        "3.   Each and every logic should have proper comments.\n",
        "4. You may add as many number of charts you want. Make Sure for each and every chart the following format should be answered.\n",
        "\n",
        "\n",
        "```\n",
        "# Chart visualization code\n",
        "```\n",
        "\n",
        "\n",
        "*   Why did you pick the specific chart?\n",
        "*   What is/are the insight(s) found from the chart?\n",
        "* Will the gained insights help creating a positive business impact?\n",
        "Are there any insights that lead to negative growth? Justify with specific reason.\n",
        "\n",
        "5. You have to create at least 20 logical & meaningful charts having important insights.\n",
        "\n",
        "\n",
        "[ Hints : - Do the Vizualization in  a structured way while following \"UBM\" Rule.\n",
        "\n",
        "U - Univariate Analysis,\n",
        "\n",
        "B - Bivariate Analysis (Numerical - Categorical, Numerical - Numerical, Categorical - Categorical)\n",
        "\n",
        "M - Multivariate Analysis\n",
        " ]\n",
        "\n",
        "\n",
        "\n"
      ],
      "metadata": {
        "id": "ZrxVaUj-hHfC"
      }
    },
    {
      "cell_type": "markdown",
      "source": [
        "# ***Let's Begin !***"
      ],
      "metadata": {
        "id": "O_i_v8NEhb9l"
      }
    },
    {
      "cell_type": "markdown",
      "source": [
        "## ***1. Know Your Data***"
      ],
      "metadata": {
        "id": "HhfV-JJviCcP"
      }
    },
    {
      "cell_type": "markdown",
      "source": [
        "### Import Libraries"
      ],
      "metadata": {
        "id": "Y3lxredqlCYt"
      }
    },
    {
      "cell_type": "code",
      "source": [
        "# Import Libraries\n",
        "import pandas as pd\n",
        "import numpy as np\n",
        "import matplotlib as mat\n",
        "import matplotlib.pyplot as plt\n",
        "import seaborn as sns\n",
        "import folium\n",
        "import plotly.express as px\n"
      ],
      "metadata": {
        "id": "M8Vqi-pPk-HR"
      },
      "execution_count": null,
      "outputs": []
    },
    {
      "cell_type": "markdown",
      "source": [
        "### Dataset Loading"
      ],
      "metadata": {
        "id": "3RnN4peoiCZX"
      }
    },
    {
      "cell_type": "code",
      "source": [
        "# Load Dataset\n",
        "from google.colab import  drive\n",
        "drive.mount('/content/drive')"
      ],
      "metadata": {
        "id": "4CkvbW_SlZ_R"
      },
      "execution_count": null,
      "outputs": []
    },
    {
      "cell_type": "code",
      "source": [
        "##  Read The File\n",
        "hotel_booking_df = pd.read_csv('/content/drive/MyDrive/PROJECTS/EDA /HOTEL_BOOKING/Hotel Bookings (1).csv')"
      ],
      "metadata": {
        "id": "GvcHSKdAiNBa"
      },
      "execution_count": null,
      "outputs": []
    },
    {
      "cell_type": "markdown",
      "source": [
        "### Dataset First View"
      ],
      "metadata": {
        "id": "x71ZqKXriCWQ"
      }
    },
    {
      "cell_type": "code",
      "source": [
        "# Dataset First Look\n",
        "hotel_booking_df.head()"
      ],
      "metadata": {
        "id": "LWNFOSvLl09H"
      },
      "execution_count": null,
      "outputs": []
    },
    {
      "cell_type": "markdown",
      "source": [
        "### Dataset Rows & Columns count"
      ],
      "metadata": {
        "id": "7hBIi_osiCS2"
      }
    },
    {
      "cell_type": "code",
      "source": [
        "# Dataset Rows & Columns count\n",
        "print(\"shape of dataframe\", hotel_booking_df.shape)\n",
        "\n",
        "# obtaining the number of rows\n",
        "print(\"number of rows : \", hotel_booking_df.shape[0])\n",
        "\n",
        "# obtaining the number of columns\n",
        "print(\"number of columns : \", hotel_booking_df.shape[1])"
      ],
      "metadata": {
        "id": "arX1R3EMqZ9s"
      },
      "execution_count": null,
      "outputs": []
    },
    {
      "cell_type": "markdown",
      "source": [
        "### Dataset Information"
      ],
      "metadata": {
        "id": "JlHwYmJAmNHm"
      }
    },
    {
      "cell_type": "code",
      "source": [
        "# Dataset Info\n",
        "hotel_booking_df.info()"
      ],
      "metadata": {
        "id": "e9hRXRi6meOf"
      },
      "execution_count": null,
      "outputs": []
    },
    {
      "cell_type": "markdown",
      "source": [
        "#### Duplicate Values"
      ],
      "metadata": {
        "id": "35m5QtbWiB9F"
      }
    },
    {
      "cell_type": "code",
      "source": [
        "# Dataset Duplicate Value Count\n",
        "duplicateRows = hotel_booking_df[hotel_booking_df.duplicated()].shape\n",
        "duplicateRows"
      ],
      "metadata": {
        "id": "1sLdpKYkmox0"
      },
      "execution_count": null,
      "outputs": []
    },
    {
      "cell_type": "markdown",
      "source": [
        "#### Missing Values/Null Values"
      ],
      "metadata": {
        "id": "PoPl-ycgm1ru"
      }
    },
    {
      "cell_type": "code",
      "source": [
        "# Missing Values/Null Values Count\n",
        "missing_value_count = hotel_booking_df.isnull().sum().sort_values(ascending = False)[:5]\n",
        "missing_value_count =pd.DataFrame(missing_value_count).reset_index() .rename(columns = {'index':'Column',0:'Missing count'})\n",
        "\n",
        "plt.figure(figsize = (8,5))\n",
        "sns.barplot(x ='Column',y = 'Missing count',data =missing_value_count ).set(\n",
        "    title=\"MIssing Values count\")\n"
      ],
      "metadata": {
        "id": "GgHWkxvamxVg"
      },
      "execution_count": null,
      "outputs": []
    },
    {
      "cell_type": "markdown",
      "source": [
        "### What did you know about your dataset?"
      ],
      "metadata": {
        "id": "H0kj-8xxnORC"
      }
    },
    {
      "cell_type": "markdown",
      "source": [
        "Answer Here :\n",
        "The provided dataset contains a wealth of information on hotel bookings and cancellations, with a particular focus on two types of hotels: city hotels and resort hotels. The dataset includes data on customers from different countries, who have made their bookings through travel agents or tourism agencies. Some of the key variables that have been collected include the length of the customer's stay, the month in which the booking was made, and the category of room that was assigned to the customer upon arrival. Additionally, the dataset provides information on when the booking was made, whether it was made on a weekday or weekend, and what category of food the customer ordered during their stay.\n",
        "\n",
        "One particularly interesting aspect of the dataset is its focus on repeat customers. By tracking whether a customer has made a booking with the hotel before, it becomes possible to explore patterns of customer loyalty and behavior over time. Another useful variable that has been collected is whether the customer made a deposit when they made their booking, which can provide insight into how committed they were to their plans.\n",
        "\n",
        "The dataset also includes information on the travel agents or tourism agencies that were involved in making the bookings. By tracking which agents were involved, it becomes possible to explore the relationship between the hotel and its network of partners, and to identify which agents are most effective at bringing in new customers.\n",
        "\n",
        "Overall, the dataset provides a rich set of variables that can be used to explore a wide range of questions related to hotel bookings and customer behavior. By analyzing the data, it should be possible to identify trends and patterns that can help hotels to better understand their customers and to improve their services and offerings over time."
      ],
      "metadata": {
        "id": "gfoNAAC-nUe_"
      }
    },
    {
      "cell_type": "markdown",
      "source": [
        "## ***2. Understanding Your Variables***"
      ],
      "metadata": {
        "id": "nA9Y7ga8ng1Z"
      }
    },
    {
      "cell_type": "markdown",
      "source": [
        "### Variables Description"
      ],
      "metadata": {
        "id": "PBTbrJXOngz2"
      }
    },
    {
      "cell_type": "markdown",
      "source": [
        "Answer Here:\n",
        "\n",
        "\n",
        "*   **Hotel**: The \"hotel\" column in the dataset specifies the two type of those are \"city\" and \"resort\".hotels,\n",
        "\n",
        "*   **Is_canceled** : The \"is_canceled\" column indicates whether a hotel booking was canceled or not. It contains values of 0 for no cancellation and 1 for cancellation.\n",
        "\n",
        "*   **Lead time**: \"Lead time\" is a data column that measures the number of days between the date a hotel reservation is booked and the actual date of arrival. It reflects the time gap between making the reservation and the actual stay.\n",
        "\n",
        "\n",
        "*   **Arrival_date_year**: This column represents the year in which the customer arrived at the hotel. It can be used to identify trends in seasonal or yearly booking of the customer.\n",
        "\n",
        "*   **Arrival_date_month**: This column represents the month in which the customer arrived at the hotel. It can be used to identify trends in monthly booking of the customer.\n",
        "\n",
        "*   **Arrival_date_week_number**: This column represents the week number in which the customer arrived at the hotel. It can be used to identify trends in weekly booking  of the customer.\n",
        "\n",
        "*   **Arrival_date_day_of_month**: This column represents the day of the month in which the customer arrived at the hotel. It can be used to identify trends in daily booking  of the customer.\n",
        "*   **Stays_in_weekend_nights**: This column represents the number of weekend nights  the customer stayed in the hotel. It can be used to analyze the length of weekend stays versus weekday stays.\n",
        "\n",
        "*  **Stays_in_week_nights**: This column represents the number of weeknights\n",
        "the customer stayed in the hotel. It can be used to analyze the length of weekday stays versus weekend stays.\n",
        "\n",
        "\n",
        "*   **Adults**: This column represents the number of adults included in the booking. It can be used to analyze the number of the customers size for bookings.\n",
        "\n",
        "\n",
        "*   **Children**: This column represents the number of children included in the booking. It can be used to analyze the  number of babies  with the booking cusomeres.\n",
        "\n",
        "\n",
        "*   **Babies**: This column represents the number of babies included in the booking. It can be used to analyze the number of babies with the booking cusomeres.\n",
        "\n",
        "*   **Meal**: This column represents the type of meal chosen by the customer. It can be used to analyze the popularity of different meal options and their associated costs.\n",
        "*   **Country**: This column represents the country of origin of the customer. It can be used to analyze witch country customers are makes the more booking.\n",
        "\n",
        "*   **Market_segment**: This column represents the market segment to which the booking belongs (e.g. corporate,direct,group,online TA,Ofline TA/TO ,complementry, etc.). It can be used to analyze the booking of the customers for different market segments.\n",
        "*  **Distribution_channel**: This column represents the distribution channel through which the booking was made (e.g. travel agent, online travel agency, etc.). It can be used to analyze the booking of the customers  for different distribution channels.\n",
        "\n",
        "\n",
        "*   **Is_repeated_guest**: This column indicates whether the customer has made any previous bookings with the hotel. It can be used to analyze the loyalty of customers.\n",
        "*   **Previous_cancellations**: This column represents the number of previous bookings that were cancelled by the customer. It can be used to analyze the reliability of customers.\n",
        "\n",
        "\n",
        "\n",
        "*   **Previous_bookings_not_canceled**: This column represents the number of previous bookings that were not cancelled by the customer. It can be used to analyze the loyalty of customers.\n",
        "\n",
        "*   **Reserved_room_type**: This column represents the room type that was reserved by the customer. It can be used to analyze the popularity of different room types.\n",
        "*   **Assigned_room_type**: This column represents the room type that was assigned to the customer upon arrival. It can be used to analyze the effectiveness of room allocation processes.\n",
        "\n",
        "\n",
        "*   **Booking_changes**: This column represents the number of changes made to the booking by the customer. It can be used to analyze the flexibility of customers and the effectiveness of the booking system.\n",
        "\n",
        "*   **Deposit_type**: This column represents the type of deposit made at the time of booking (e.g. refundable, non-refundable, no deposit). It can be used to analyze the impact of different deposit types on booking customers.\n",
        "*   **Agent**: This column represents the ID of the travel agent who made the booking. It can be used to analyze the effectiveness of different travel agents in generating bookings.\n",
        "\n",
        "\n",
        "\n",
        "\n",
        "\n",
        "\n",
        "\n",
        "\n",
        "\n",
        "\n",
        "\n",
        "\n",
        "\n",
        "\n",
        "\n",
        "\n",
        "\n",
        "\n",
        "\n",
        "\n",
        "\n",
        "\n",
        "\n",
        "\n",
        "\n",
        "\n"
      ],
      "metadata": {
        "id": "aJV4KIxSnxay"
      }
    },
    {
      "cell_type": "markdown",
      "source": [
        "### Check Unique Values for each variable."
      ],
      "metadata": {
        "id": "u3PMJOP6ngxN"
      }
    },
    {
      "cell_type": "code",
      "source": [
        "# To Undersrand the witch type of hoels presented in the data set\n",
        "hotel_booking_df['hotel'].unique()"
      ],
      "metadata": {
        "id": "RxqklFq934A9"
      },
      "execution_count": null,
      "outputs": []
    },
    {
      "cell_type": "code",
      "source": [
        "# To Undersrand the witch type of hoels presented in the data set\n",
        "hotel_booking_df['is_canceled'].unique()"
      ],
      "metadata": {
        "id": "XWHWE6dr4JxD"
      },
      "execution_count": null,
      "outputs": []
    },
    {
      "cell_type": "code",
      "source": [
        "# To Undersrand the witch type of arrival_date_year presented in the data set\n",
        "hotel_booking_df['arrival_date_year'].unique()"
      ],
      "metadata": {
        "id": "oIRnhFy54YKG"
      },
      "execution_count": null,
      "outputs": []
    },
    {
      "cell_type": "code",
      "source": [
        "# To Undersrand the witch type of meals presented in the data set\n",
        "hotel_booking_df['meal'].unique()"
      ],
      "metadata": {
        "id": "NO_8FZcK42H9"
      },
      "execution_count": null,
      "outputs": []
    },
    {
      "cell_type": "code",
      "source": [
        "# To Undersrand the witch type of market_segment presented in the data set\n",
        "hotel_booking_df['market_segment'].unique()\n"
      ],
      "metadata": {
        "id": "WSYd2uoM5Ub3"
      },
      "execution_count": null,
      "outputs": []
    },
    {
      "cell_type": "code",
      "source": [
        "# To Undersrand the witch type of distribution_channel presented in the data set\n",
        "hotel_booking_df['distribution_channel'].unique()"
      ],
      "metadata": {
        "id": "nyGB_lLK5isR"
      },
      "execution_count": null,
      "outputs": []
    },
    {
      "cell_type": "code",
      "source": [
        "# To Undersrand the witch type of children presented in the data set\n",
        "hotel_booking_df['children'].unique()"
      ],
      "metadata": {
        "id": "IOCc6Mve5teo"
      },
      "execution_count": null,
      "outputs": []
    },
    {
      "cell_type": "code",
      "source": [
        "# To Undersrand the witch type of customer presented in the data set\n",
        "hotel_booking_df['customer_type'].unique()"
      ],
      "metadata": {
        "id": "gQHsYePe530P"
      },
      "execution_count": null,
      "outputs": []
    },
    {
      "cell_type": "markdown",
      "source": [
        "## 3. ***Data Wrangling***"
      ],
      "metadata": {
        "id": "dauF4eBmngu3"
      }
    },
    {
      "cell_type": "markdown",
      "source": [
        "### Data Wrangling Code"
      ],
      "metadata": {
        "id": "bKJF3rekwFvQ"
      }
    },
    {
      "cell_type": "code",
      "source": [
        "\n",
        "# I am storing df into hotel_booking_df from easy perpose\n",
        "\n",
        "df = hotel_booking_df"
      ],
      "metadata": {
        "id": "ytVPFD9SBBZT"
      },
      "execution_count": null,
      "outputs": []
    },
    {
      "cell_type": "code",
      "source": [
        "# Write your code to make your dataset analysis ready.\n",
        "\n",
        "# Remove duplicats Rowes\n",
        "# Handelling Missing Values\n",
        "# Convert Columns to appropriates data types\n",
        "# Adding Importent Columns\n",
        "\n",
        "\n"
      ],
      "metadata": {
        "id": "wk-9a2fpoLcV"
      },
      "execution_count": null,
      "outputs": []
    },
    {
      "cell_type": "markdown",
      "source": [
        "**Step 1: Removing duplicats Rowes**"
      ],
      "metadata": {
        "id": "TPw03K3I9Fy7"
      }
    },
    {
      "cell_type": "code",
      "source": [
        "# no. of rows of duplicate rows\n",
        "df[df.duplicated()].shape"
      ],
      "metadata": {
        "id": "iHLW9fcO9hto"
      },
      "execution_count": null,
      "outputs": []
    },
    {
      "cell_type": "code",
      "source": [
        "# Dropping duplicate values\n",
        "df.drop_duplicates(inplace = True)"
      ],
      "metadata": {
        "id": "B1F_Cn-MBc1R"
      },
      "execution_count": null,
      "outputs": []
    },
    {
      "cell_type": "code",
      "source": [
        "# With Out Duplicates\n",
        "df.shape"
      ],
      "metadata": {
        "id": "r-8TDzlABuec"
      },
      "execution_count": null,
      "outputs": []
    },
    {
      "cell_type": "markdown",
      "source": [
        "**Step 2: Handelling Missing Values**"
      ],
      "metadata": {
        "id": "4cmksA4o9jNc"
      }
    },
    {
      "cell_type": "code",
      "source": [
        "# Missing value & count\n",
        "missing_value_count = hotel_booking_df.isnull().sum().sort_values(ascending = False)[:5]\n",
        "missing_value_count"
      ],
      "metadata": {
        "id": "32WIxp6t-NrE"
      },
      "execution_count": null,
      "outputs": []
    },
    {
      "cell_type": "markdown",
      "source": [
        "The company and agent columns in the provided data set contain information such as the company and agency numbers.\n",
        "There may be instances where a customer does not book a hotel through an agent or a firm. In that situation, values in these columns can be null.\n",
        "In these columns, null values will be changed to zero"
      ],
      "metadata": {
        "id": "OK1FdCLUl4vC"
      }
    },
    {
      "cell_type": "code",
      "source": [
        "df[['company','agent']] = df[['company','agent']].fillna(0)"
      ],
      "metadata": {
        "id": "d9eUY77yELGE"
      },
      "execution_count": null,
      "outputs": []
    },
    {
      "cell_type": "code",
      "source": [
        "df['children'].unique()"
      ],
      "metadata": {
        "id": "7NBlzd9tEUZB"
      },
      "execution_count": null,
      "outputs": []
    },
    {
      "cell_type": "markdown",
      "source": [
        "I observed that there is only 4 rowes are missing in the children column and This 'children' column has a value 0 which means no children were present in group of customers .\n",
        "In the given data set there was Misiing values is it marked it as 'nan'\n",
        "So i am replacing the Missing value to its mean value\n",
        "\n"
      ],
      "metadata": {
        "id": "ETk1MyDNE0Wz"
      }
    },
    {
      "cell_type": "code",
      "source": [
        "df['children'].fillna(df['children'].mean(), inplace = True)"
      ],
      "metadata": {
        "id": "n2DR1J0LFmSK"
      },
      "execution_count": null,
      "outputs": []
    },
    {
      "cell_type": "markdown",
      "source": [
        "Next Missing Value column is the  'country' column. there are nearly 452 records are missing in this column , This column represents the country of oriigin of customer.\n",
        "this is the string datatype column. We will replace the missing value to 'others'."
      ],
      "metadata": {
        "id": "SjfgsmlPGU1F"
      }
    },
    {
      "cell_type": "code",
      "source": [
        "df['country'].fillna('others', inplace = True)"
      ],
      "metadata": {
        "id": "52JUCw0FHz-Z"
      },
      "execution_count": null,
      "outputs": []
    },
    {
      "cell_type": "markdown",
      "source": [
        "In the given Dataset there are 166 rowes where adult or children or babys are equl to ZERO, it seems like there invalid in the data frame records so we are removing the these records"
      ],
      "metadata": {
        "id": "S1PuAP7OQQHx"
      }
    },
    {
      "cell_type": "code",
      "source": [
        "df[df['adults']+df['babies']+df['children'] == 0].shape"
      ],
      "metadata": {
        "id": "dRaWhOE4QOMl"
      },
      "execution_count": null,
      "outputs": []
    },
    {
      "cell_type": "code",
      "source": [
        "# droping the invalid rows from the given data set\n",
        "df.drop(df[df['adults']+df['babies']+df['children'] == 0].index, inplace = True)"
      ],
      "metadata": {
        "id": "YFii7Wi9RlmB"
      },
      "execution_count": null,
      "outputs": []
    },
    {
      "cell_type": "code",
      "source": [
        "# Checking if all null values are removed\n",
        "df.isnull().sum().sort_values(ascending = False)[:6]"
      ],
      "metadata": {
        "id": "4Ht-4vR6H247"
      },
      "execution_count": null,
      "outputs": []
    },
    {
      "cell_type": "markdown",
      "source": [
        "**Step 3: Convert Columns to appropriates data types**"
      ],
      "metadata": {
        "id": "Q-pitAfT9uB6"
      }
    },
    {
      "cell_type": "code",
      "source": [
        "# In the given data set there wer 3 columns are in float data type but it contains integer data so we Converting datatype of 3 columns 'children', 'company' and 'agent' from float to int.\n",
        "df[['children', 'company', 'agent']] = df[['children','company','agent']].astype('int64')"
      ],
      "metadata": {
        "id": "iZr40ILJ-MnH"
      },
      "execution_count": null,
      "outputs": []
    },
    {
      "cell_type": "code",
      "source": [
        "#in the given data set 'reservation_status_date' is object so we changing datatype of column 'reservation_status_date' to data_type.\n",
        "df['reservation_status_date'] = pd.to_datetime(df['reservation_status_date'], format = '%Y-%m-%d')"
      ],
      "metadata": {
        "id": "njV3xwxlTXx_"
      },
      "execution_count": null,
      "outputs": []
    },
    {
      "cell_type": "markdown",
      "source": [
        "**Note**: Reamaining columns having proper datatypes and column names"
      ],
      "metadata": {
        "id": "p5jTVy0iTuu3"
      }
    },
    {
      "cell_type": "markdown",
      "source": [
        "**Step 4 : Adding Importent Columns**"
      ],
      "metadata": {
        "id": "9BNbWfJh95Aj"
      }
    },
    {
      "cell_type": "markdown",
      "source": [
        "We are analysing the data of bookings it includues (week nights, weekend nights) and number of peoples staying for the single booking like (adults,children,babies)"
      ],
      "metadata": {
        "id": "LuKWGCcLUitS"
      }
    },
    {
      "cell_type": "code",
      "source": [
        "# Adding total staying days in hotels it gives ovrall nightes\n",
        "df['total_stay'] = df['stays_in_weekend_nights']+df['stays_in_week_nights']\n",
        "\n"
      ],
      "metadata": {
        "id": "_5iP5W0d-PNd"
      },
      "execution_count": null,
      "outputs": []
    },
    {
      "cell_type": "code",
      "source": [
        "# Adding total people num as column, i.e. total people num = num of adults + children + babies it gives the totel population\n",
        "df['total_people'] = df['adults']+df['children']+df['babies']"
      ],
      "metadata": {
        "id": "eDIo1TbzUZ3E"
      },
      "execution_count": null,
      "outputs": []
    },
    {
      "cell_type": "markdown",
      "source": [
        "**Checking of outlier**"
      ],
      "metadata": {
        "id": "r9e9jRjUXPcD"
      }
    },
    {
      "cell_type": "markdown",
      "source": [
        "1. Why did you pick the specific chart?"
      ],
      "metadata": {
        "id": "s7qgbjTCpq4P"
      }
    },
    {
      "cell_type": "markdown",
      "source": [
        "**Answer Hear:**\n",
        "\n",
        "\n",
        "*   Scatter plots are used to plot data points on a horizontal and a vertical axis in the attempt to show how much adr is affected by totel stay\n",
        "\n"
      ],
      "metadata": {
        "id": "-zLvb4HypZSa"
      }
    },
    {
      "cell_type": "code",
      "source": [
        "# Adr is the one of most improtent factored in the hotel industery so we can check length of stay affects the adr.\n",
        "plt.figure(figsize = (10,5))\n",
        "sns.scatterplot(y = 'adr',x = 'total_stay',data = df)\n",
        "plt.show()"
      ],
      "metadata": {
        "id": "0sSo8hdSXe0O"
      },
      "execution_count": null,
      "outputs": []
    },
    {
      "cell_type": "code",
      "source": [
        "# we observed that thers is an outliar in the adr so we are removing for the better analysis of the data\n",
        "df.drop(df[df['adr']>1000].index,inplace = True)"
      ],
      "metadata": {
        "id": "FeaH58qWYsWw"
      },
      "execution_count": null,
      "outputs": []
    },
    {
      "cell_type": "code",
      "source": [
        "\n",
        "\n",
        "# These means wen we are staying longer time we can deal with the customers can finilised\n",
        "plt.figure(figsize = (10,5))\n",
        "sns.scatterplot(y = 'adr',x = 'total_stay',data = df)\n",
        "plt.show()"
      ],
      "metadata": {
        "id": "hiRSmRNrZXm9"
      },
      "execution_count": null,
      "outputs": []
    },
    {
      "cell_type": "markdown",
      "source": [
        "### What all manipulations have you done and insights you found?"
      ],
      "metadata": {
        "id": "MSa1f5Uengrz"
      }
    },
    {
      "cell_type": "markdown",
      "source": [
        "**Answer Here.**:\n",
        "\n",
        "\n",
        "*   The given dataset required various data manipulations to improve the accuracy of analysis. Firstly, we needed to remove duplicate values as they can affect the outcome of analysis. Secondly, handling missing values is crucial as it affects the accuracy of analysis. Additionally, we had to convert columns to appropriate data types as some columns had improper data types. Lastly, to enhance the dataset, we added important columns like total people and total stay as there was no particular column for total bookings and stay. Overall, these data manipulations were essential to improve the accuracy and usefulness of the given dataset.\n",
        "\n"
      ],
      "metadata": {
        "id": "LbyXE7I1olp8"
      }
    },
    {
      "cell_type": "markdown",
      "source": [
        "## ***4. Data Vizualization, Storytelling & Experimenting with charts : Understand the relationships between variables***"
      ],
      "metadata": {
        "id": "GF8Ens_Soomf"
      }
    },
    {
      "cell_type": "code",
      "source": [
        "# Now cleanned data set is ready from the analysis with the name df"
      ],
      "metadata": {
        "id": "aJPakL54V_Sg"
      },
      "execution_count": null,
      "outputs": []
    },
    {
      "cell_type": "markdown",
      "source": [
        "####  1)Which agent makes the most bookings for the customers?"
      ],
      "metadata": {
        "id": "0wOQAZs5pc--"
      }
    },
    {
      "cell_type": "code",
      "source": [
        "# visualization code\n",
        "df1 = pd.DataFrame(df['agent'].value_counts()).reset_index().rename(columns = {'index':'agent','agent':'booking_count'}).sort_values(by ='booking_count',ascending = False )[:10]\n",
        "df1\n",
        "\n",
        "plt.figure(figsize = (10,6))\n",
        "sns.barplot(x = 'agent',y = 'booking_count',data = df1,order = df1.sort_values('booking_count',ascending = False).agent).set(\n",
        "    title=\"witch agent makes most of the bookings\")\n",
        "plt.show()"
      ],
      "metadata": {
        "id": "7v_ESjsspbW7"
      },
      "execution_count": null,
      "outputs": []
    },
    {
      "cell_type": "markdown",
      "source": [
        "##### 1. Why did you pick the specific chart?"
      ],
      "metadata": {
        "id": "K5QZ13OEpz2H"
      }
    },
    {
      "cell_type": "markdown",
      "source": [
        "Answer Here: As the problem statement is releted to categerical column agent\n",
        "So bar chat will be sutable for visualization of nember of bookings with respect to each catagory\n"
      ],
      "metadata": {
        "id": "XESiWehPqBRc"
      }
    },
    {
      "cell_type": "markdown",
      "source": [
        "##### 2. What is/are the insight(s) found from the chart?"
      ],
      "metadata": {
        "id": "lQ7QKXXCp7Bj"
      }
    },
    {
      "cell_type": "markdown",
      "source": [
        "Answer Here:  The Above data set agent 9 makes the most number of bookings followed by Agent 240 and 0"
      ],
      "metadata": {
        "id": "C_j1G7yiqdRP"
      }
    },
    {
      "cell_type": "markdown",
      "source": [
        "##### 3. Will the gained insights help creating a positive business impact?\n",
        "Are there any insights that lead to negative growth? Justify with specific reason.\n",
        "\n",
        ""
      ],
      "metadata": {
        "id": "448CDAPjqfQr"
      }
    },
    {
      "cell_type": "markdown",
      "source": [
        "**Answer Here:**\n",
        "*   The use of these agents is unlikely to have a negative impact on the business as they provide valuable assistance to customers when booking hotels."
      ],
      "metadata": {
        "id": "3cspy4FjqxJW"
      }
    },
    {
      "cell_type": "markdown",
      "source": [
        "####  2)Which room types are most demanded and which room types generate high ADR?"
      ],
      "metadata": {
        "id": "KSlN3yHqYklG"
      }
    },
    {
      "cell_type": "code",
      "source": [
        "fig, axes = plt.subplots(1,2, figsize = (15,7))\n",
        "\n",
        "group_by_room = df.groupby('assigned_room_type')\n",
        "df1['booking_count'] = group_by_room.size()\n",
        "\n",
        "sns.countplot(ax = axes[0], x = df['assigned_room_type'])\n",
        "sns.boxplot(ax = axes[1], x = df['assigned_room_type'], y = df['adr'])\n",
        "plt.show()\n"
      ],
      "metadata": {
        "id": "R4YgtaqtYklH"
      },
      "execution_count": null,
      "outputs": []
    },
    {
      "cell_type": "markdown",
      "source": [
        "##### 1. Why did you pick the specific chart?"
      ],
      "metadata": {
        "id": "t6dVpIINYklI"
      }
    },
    {
      "cell_type": "markdown",
      "source": [
        "**Answer Here:**\n",
        "\n",
        "*   As the problem statement is releted to categerical column  assigned room type So bar chat will be sutable for visualization of count with respect to each catagory\n",
        "*   Hear i have consedered box plot to understand the adr value with respect to each catagery of assigned room time with leavels of 0,25,50,75 and 100\n",
        "\n",
        "\n",
        "\n",
        ""
      ],
      "metadata": {
        "id": "5aaW0BYyYklI"
      }
    },
    {
      "cell_type": "markdown",
      "source": [
        "##### 2. What is/are the insight(s) found from the chart?"
      ],
      "metadata": {
        "id": "ijmpgYnKYklI"
      }
    },
    {
      "cell_type": "markdown",
      "source": [
        "**Answer Here:**\n",
        "\n",
        "*   From the above chart room type A is the most demanded roome followed by D E, BUt comming to ADR G,H are generating the most revenue\n",
        "\n",
        "\n",
        "\n"
      ],
      "metadata": {
        "id": "PSx9atu2YklI"
      }
    },
    {
      "cell_type": "markdown",
      "source": [
        "##### 3. Will the gained insights help creating a positive business impact?\n",
        "Are there any insights that lead to negative growth? Justify with specific reason."
      ],
      "metadata": {
        "id": "-JiQyfWJYklI"
      }
    },
    {
      "cell_type": "markdown",
      "source": [
        "**Answer Here:**\n",
        "*   As Per the my Analysis We can  come up will best deals or offer for the G,H Rooms or To run the degital campigns or marketing  So that customer get attracted.\n"
      ],
      "metadata": {
        "id": "BcBbebzrYklV"
      }
    },
    {
      "cell_type": "markdown",
      "source": [
        "#### 3)What is the percentage of bookings in each hotel?"
      ],
      "metadata": {
        "id": "EM7whBJCYoAo"
      }
    },
    {
      "cell_type": "code",
      "source": [
        "groupby_hotel = df.groupby('hotel')\n",
        "df2 = pd.DataFrame((groupby_hotel.size())/df.shape[0]* 100).reset_index().rename(columns = {0:'Booking %'})\n",
        "df2\n",
        "\n",
        "plt.figure(figsize = (8,5))\n",
        "sns.barplot(x = df2['hotel'], y = df2['Booking %'] )\n",
        "plt.show()"
      ],
      "metadata": {
        "id": "t6GMdE67YoAp"
      },
      "execution_count": null,
      "outputs": []
    },
    {
      "cell_type": "markdown",
      "source": [
        "##### 1. Why did you pick the specific chart?"
      ],
      "metadata": {
        "id": "fge-S5ZAYoAp"
      }
    },
    {
      "cell_type": "markdown",
      "source": [
        "**Answer Here:**\n",
        "\n",
        "*   As the problem statement is releted to categerical column hotels and percentage of booking, So bar chat will be sutable for visualization of   booking percentage with respect to each catagory\n",
        ""
      ],
      "metadata": {
        "id": "5dBItgRVYoAp"
      }
    },
    {
      "cell_type": "markdown",
      "source": [
        "##### 2. What is/are the insight(s) found from the chart?"
      ],
      "metadata": {
        "id": "85gYPyotYoAp"
      }
    },
    {
      "cell_type": "markdown",
      "source": [
        "**Answer Here:**\n",
        "\n",
        "*   As per the chart 60 % of booking wes done by city hotel and rest of the 40 % of hotels was in Resort Hotel\n",
        "\n",
        ""
      ],
      "metadata": {
        "id": "4jstXR6OYoAp"
      }
    },
    {
      "cell_type": "markdown",
      "source": [
        "##### 3. Will the gained insights help creating a positive business impact?\n",
        "Are there any insights that lead to negative growth? Justify with specific reason."
      ],
      "metadata": {
        "id": "RoGjAbkUYoAp"
      }
    },
    {
      "cell_type": "markdown",
      "source": [
        "**Answer Here :**\n",
        "\n",
        "\n",
        "*    It will Not create any negetive impact we just understand the hotel booking  ratio\n",
        "\n"
      ],
      "metadata": {
        "id": "zfJ8IqMcYoAp"
      }
    },
    {
      "cell_type": "markdown",
      "source": [
        "#### 4)Which hotel makes more revenue?"
      ],
      "metadata": {
        "id": "4Of9eVA-YrdM"
      }
    },
    {
      "cell_type": "code",
      "source": [
        "df3 = groupby_hotel['adr'].agg(np.mean).reset_index().rename(columns = {'adr':'avg_adr'})\n",
        "df3\n",
        "\n",
        "plt.figure(figsize = (8,5))\n",
        "sns.barplot(x = df3['hotel'], y = df3['avg_adr'] )\n",
        "plt.show()"
      ],
      "metadata": {
        "id": "irlUoxc8YrdO"
      },
      "execution_count": null,
      "outputs": []
    },
    {
      "cell_type": "markdown",
      "source": [
        "##### 1. Why did you pick the specific chart?"
      ],
      "metadata": {
        "id": "iky9q4vBYrdO"
      }
    },
    {
      "cell_type": "markdown",
      "source": [
        "**Answer Here:**\n",
        "\n",
        "\n",
        "*   As the problem statement is releted to categerical column hotels and avg_adr, So bar chat will be sutable for visualization of avg_adr with respect to each catagory\n",
        "\n"
      ],
      "metadata": {
        "id": "aJRCwT6DYrdO"
      }
    },
    {
      "cell_type": "markdown",
      "source": [
        "##### 2. What is/are the insight(s) found from the chart?"
      ],
      "metadata": {
        "id": "F6T5p64dYrdO"
      }
    },
    {
      "cell_type": "markdown",
      "source": [
        "**Answer Here :**\n",
        "\n",
        "*   As per chart city hotel and resort hotel are generating better revenue but there wes slight difference, city hotel generage litel more that resort hotel\n",
        "\n",
        "\n",
        ""
      ],
      "metadata": {
        "id": "Xx8WAJvtYrdO"
      }
    },
    {
      "cell_type": "markdown",
      "source": [
        "##### 3. Will the gained insights help creating a positive business impact?\n",
        "Are there any insights that lead to negative growth? Justify with specific reason.\n",
        "\n",
        "\n",
        "\n",
        "\n",
        "\n",
        "\n"
      ],
      "metadata": {
        "id": "y-Ehk30pYrdP"
      }
    },
    {
      "cell_type": "markdown",
      "source": [
        "**Answer Here :**\n",
        "*   The Business Main agenda is Revenue of the hotel city hotel booking and revenue are better thean resort hotel so if we can focues along with resort hotels it will help for the positive impact on Revenue\n",
        "\n",
        "\n",
        "\n",
        "\n",
        ""
      ],
      "metadata": {
        "id": "jLNxxz7MYrdP"
      }
    },
    {
      "cell_type": "markdown",
      "source": [
        "####   5)What is the preferred stay length in each hotel?"
      ],
      "metadata": {
        "id": "bamQiAODYuh1"
      }
    },
    {
      "cell_type": "code",
      "source": [
        "not_canceled = df[df['is_canceled'] == 0]\n",
        "s1 = not_canceled[not_canceled['total_stay'] < 15]\n",
        "plt.figure(figsize = (10,5))\n",
        "sns.countplot(x = s1['total_stay'], hue = s1['hotel'])\n",
        "plt.show()\n",
        "\n",
        "\n"
      ],
      "metadata": {
        "id": "TIJwrbroYuh3"
      },
      "execution_count": null,
      "outputs": []
    },
    {
      "cell_type": "markdown",
      "source": [
        "##### 1. Why did you pick the specific chart?"
      ],
      "metadata": {
        "id": "QHF8YVU7Yuh3"
      }
    },
    {
      "cell_type": "markdown",
      "source": [
        "**Answer Here:**\n",
        "\n",
        "\n",
        "*   As the problem statement is releted to categerical column hotels and preferred_stay lengh count, So bar chat will be sutable for visualization of preferred_stay length  with respect to each catagory"
      ],
      "metadata": {
        "id": "dcxuIMRPYuh3"
      }
    },
    {
      "cell_type": "markdown",
      "source": [
        "##### 2. What is/are the insight(s) found from the chart?"
      ],
      "metadata": {
        "id": "GwzvFGzlYuh3"
      }
    },
    {
      "cell_type": "markdown",
      "source": [
        "**Answer Here:**\n",
        "\n",
        "\n",
        "*   As Per the chart most of the customures are staying in the city hotel less than 4 days  and most of the customers are prefere to stay 1 day and 7 days"
      ],
      "metadata": {
        "id": "uyqkiB8YYuh3"
      }
    },
    {
      "cell_type": "markdown",
      "source": [
        "##### 3. Will the gained insights help creating a positive business impact?\n",
        "Are there any insights that lead to negative growth? Justify with specific reason."
      ],
      "metadata": {
        "id": "qYpmQ266Yuh3"
      }
    },
    {
      "cell_type": "markdown",
      "source": [
        "**Answer Here :**\n",
        "\n",
        "*   As per the Analysise for the long stay Resort Hotel is Sutable to convernce the customer who are planning to stay around planning 6 to 7 to book the Resort Hotel"
      ],
      "metadata": {
        "id": "_WtzZ_hCYuh4"
      }
    },
    {
      "cell_type": "markdown",
      "source": [
        "#### 6)Which hotel has a long waiting time?\n",
        "\n"
      ],
      "metadata": {
        "id": "OH-pJp9IphqM"
      }
    },
    {
      "cell_type": "code",
      "source": [
        "df6 = pd.DataFrame(groupby_hotel['days_in_waiting_list'].agg(np.mean)).reset_index().rename(columns= {'days_in_waiting_list':'avg_waiting_period'})\n",
        "\n",
        "plt.figure(figsize = (10,5))\n",
        "sns.barplot(x = df6['hotel'],y = df6['avg_waiting_period'])\n",
        "plt.show()"
      ],
      "metadata": {
        "id": "kuRf4wtuphqN"
      },
      "execution_count": null,
      "outputs": []
    },
    {
      "cell_type": "markdown",
      "source": [
        "##### 1. Why did you pick the specific chart?"
      ],
      "metadata": {
        "id": "bbFf2-_FphqN"
      }
    },
    {
      "cell_type": "markdown",
      "source": [
        "**Answer Here.**\n",
        "\n",
        "*   As the problem statement is releted to categerical column hotels and avg_waiting_period , So bar chat will be sutable for visualization of nember of avg_waiting_period  with respect to each catagory"
      ],
      "metadata": {
        "id": "loh7H2nzphqN"
      }
    },
    {
      "cell_type": "markdown",
      "source": [
        "##### 2. What is/are the insight(s) found from the chart?"
      ],
      "metadata": {
        "id": "_ouA3fa0phqN"
      }
    },
    {
      "cell_type": "markdown",
      "source": [
        "Answer Here : According to the chart, city hotels have longer waiting times compared to resort hotels because city hotels are located within the main city while resort hotels are situated outside the city."
      ],
      "metadata": {
        "id": "VECbqPI7phqN"
      }
    },
    {
      "cell_type": "markdown",
      "source": [
        "##### 3. Will the gained insights help creating a positive business impact?\n",
        "Are there any insights that lead to negative growth? Justify with specific reason."
      ],
      "metadata": {
        "id": "Seke61FWphqN"
      }
    },
    {
      "cell_type": "markdown",
      "source": [
        "Answer Here: If there is a high demand for bookings in a particular month like August, it is recommended to adjust prices to reduce waiting times and increase the average daily rate (ADR). This is because longer waiting times can have a negative impact on revenue."
      ],
      "metadata": {
        "id": "DW4_bGpfphqN"
      }
    },
    {
      "cell_type": "markdown",
      "source": [
        "#### 7)Which hotel has the highest booking and cancellation rate?"
      ],
      "metadata": {
        "id": "PIIx-8_IphqN"
      }
    },
    {
      "cell_type": "code",
      "source": [
        "# count the number of cancelled booking for each hotel.\n",
        "cancelled_data = df[df['is_canceled']==1]\n",
        "cancel_group = cancelled_data.groupby('hotel')\n",
        "\n",
        "S1 = pd.DataFrame(cancel_group.size()).rename(columns = {0:'totel_cancelled_booking'})\n",
        "\n",
        "# count of totel number of bookings for each hotel\n",
        "totel_booking = groupby_hotel.size()\n",
        "S2 = pd.DataFrame(totel_booking).rename(columns = {0:'totel_bookings'})\n",
        "S3 = pd.concat([S1,S2],axis = 1)\n",
        "\n",
        "# calculating the cancel percentage\n",
        "\n",
        "S3['Cancel_%'] = round((S3['totel_cancelled_booking']/S3['totel_bookings'])* 100,2)\n",
        "S3"
      ],
      "metadata": {
        "id": "lqAIGUfyphqO"
      },
      "execution_count": null,
      "outputs": []
    },
    {
      "cell_type": "code",
      "source": [
        "plt.figure(figsize = (10,5))\n",
        "sns.barplot(x = S3.index,y = S3['Cancel_%'])\n",
        "plt.show()"
      ],
      "metadata": {
        "id": "22P6wuvIAsv0"
      },
      "execution_count": null,
      "outputs": []
    },
    {
      "cell_type": "markdown",
      "source": [
        "##### 1. Why did you pick the specific chart?"
      ],
      "metadata": {
        "id": "t27r6nlMphqO"
      }
    },
    {
      "cell_type": "markdown",
      "source": [
        "**Answer Here:**\n",
        "*   As the problem statement is releted to categerical column hotels and cancelation percentage count, So bar chat will be sutable for visualization of nember of cancelation with respect to each catagory"
      ],
      "metadata": {
        "id": "iv6ro40sphqO"
      }
    },
    {
      "cell_type": "markdown",
      "source": [
        "##### 2. What is/are the insight(s) found from the chart?"
      ],
      "metadata": {
        "id": "r2jJGEOYphqO"
      }
    },
    {
      "cell_type": "markdown",
      "source": [
        "**Answer Here :**\n",
        "\n",
        "\n",
        "*   Around 30 % of city Hotels and 22 % of Resort Hotel bookings cancelled"
      ],
      "metadata": {
        "id": "Po6ZPi4hphqO"
      }
    },
    {
      "cell_type": "markdown",
      "source": [
        "##### 3. Will the gained insights help creating a positive business impact?\n",
        "Are there any insights that lead to negative growth? Justify with specific reason."
      ],
      "metadata": {
        "id": "b0JNsNcRphqO"
      }
    },
    {
      "cell_type": "markdown",
      "source": [
        "**Answer Here :** From the above chart i  observed that the cancellations are more i the resort hotel, thata  Will be a  Negetive impact on the Bussiness\n",
        "because cancllation may lead to unoccupied room wilth will not generate any Revenue\n",
        "\n",
        ""
      ],
      "metadata": {
        "id": "xvSq8iUTphqO"
      }
    },
    {
      "cell_type": "markdown",
      "source": [
        "#### 8)8)Which hotel has the highest repeated customers?"
      ],
      "metadata": {
        "id": "BZR9WyysphqO"
      }
    },
    {
      "cell_type": "code",
      "source": [
        "# Selecting and count of repeated customers bookings\n",
        "repeated_data = df[df['is_repeated_guest'] == 1]\n",
        "repeat_grp = repeated_data.groupby('hotel')\n",
        "A1 = pd.DataFrame(repeat_grp.size()).rename(columns = {0:'total_repeated_guests'})\n",
        "\n",
        "# Count total bookings\n",
        "total_booking = groupby_hotel.size()\n",
        "A2 = pd.DataFrame(total_booking).rename(columns = {0: 'total_bookings'})\n",
        "A3 = pd.concat([A1,A2], axis = 1)\n",
        "\n",
        "# Calculating thr repeat %\n",
        "A3['repeat_%'] = round((A3['total_repeated_guests']/A3['total_bookings'])*100,2)\n",
        "\n",
        "plt.figure(figsize = (10,5))\n",
        "sns.barplot(x = A3.index, y = A3['repeat_%'])\n",
        "plt.show()"
      ],
      "metadata": {
        "id": "TdPTWpAVphqO"
      },
      "execution_count": null,
      "outputs": []
    },
    {
      "cell_type": "markdown",
      "source": [
        "##### 1. Why did you pick the specific chart?"
      ],
      "metadata": {
        "id": "jj7wYXLtphqO"
      }
    },
    {
      "cell_type": "markdown",
      "source": [
        "**Answer Here:**\n",
        "\n",
        "\n",
        "*  As the problem statement is releted to categerical column hotels and repeted customers  percentage , So bar chat will be sutable for visualization of  repeted customers percentage with respect to each catagory"
      ],
      "metadata": {
        "id": "Ob8u6rCTphqO"
      }
    },
    {
      "cell_type": "markdown",
      "source": [
        "##### 2. What is/are the insight(s) found from the chart?"
      ],
      "metadata": {
        "id": "eZrbJ2SmphqO"
      }
    },
    {
      "cell_type": "markdown",
      "source": [
        "**Answer Here :**\n",
        "\n",
        "*   As Per the above chart ther we only 3 % customeres from city hotel and 5 %  Customeres Resort Hotel wer the reperted and loylty customeres"
      ],
      "metadata": {
        "id": "mZtgC_hjphqO"
      }
    },
    {
      "cell_type": "markdown",
      "source": [
        "##### 3. Will the gained insights help creating a positive business impact?\n",
        "Are there any insights that lead to negative growth? Justify with specific reason."
      ],
      "metadata": {
        "id": "rFu4xreNphqO"
      }
    },
    {
      "cell_type": "markdown",
      "source": [
        "**Answer Here :**\n",
        "\n",
        "\n",
        "*   According to my analysis, repeated customers play an important role in business. If we increase the percentage of repeated customers, it will have a positive impact on business. These customers are loyal and are likely to return to our hotel instead of looking for alternatives."
      ],
      "metadata": {
        "id": "ey_0qi68phqO"
      }
    },
    {
      "cell_type": "markdown",
      "source": [
        "**BIVARIATE ANALYSIS**"
      ],
      "metadata": {
        "id": "PSSKwakxJGsA"
      }
    },
    {
      "cell_type": "markdown",
      "source": [
        "### 1)Which is the most common channel for booking hotels?"
      ],
      "metadata": {
        "id": "YJ55k-q6phqO"
      }
    },
    {
      "cell_type": "code",
      "source": [
        "# Chart - 9 visualization code\n",
        "group_by_dc = df.groupby('distribution_channel')\n",
        "d1 = pd.DataFrame(round((group_by_dc.size()/df.shape[0])*100,2)).reset_index().rename(columns = {0: 'Booking_%'})\n",
        "d1"
      ],
      "metadata": {
        "id": "B2aS4O1ophqO"
      },
      "execution_count": null,
      "outputs": []
    },
    {
      "cell_type": "code",
      "source": [
        "d1.groupby(['distribution_channel']).sum().plot(\n",
        "    kind='pie', y='Booking_%', autopct='%1.0f%%', startangle=60)"
      ],
      "metadata": {
        "id": "HVodxYANM_vp"
      },
      "execution_count": null,
      "outputs": []
    },
    {
      "cell_type": "markdown",
      "source": [
        "##### 1. Why did you pick the specific chart?"
      ],
      "metadata": {
        "id": "gCFgpxoyphqP"
      }
    },
    {
      "cell_type": "markdown",
      "source": [
        "**Answer Here:**\n",
        "*   Pie chart can only be used if the sum of the individual parts add up to a meaningful whole distribution_channel, and is built for visualizing how each part contributes to that whole distribution_channel\n",
        "\n"
      ],
      "metadata": {
        "id": "TVxDimi2phqP"
      }
    },
    {
      "cell_type": "markdown",
      "source": [
        "##### 2. What is/are the insight(s) found from the chart?"
      ],
      "metadata": {
        "id": "OVtJsKN_phqQ"
      }
    },
    {
      "cell_type": "markdown",
      "source": [
        "**Answer Here :**\n",
        "\n",
        "\n",
        "*   The above chart shows that Travel Agents and Tour Operators are responsible for around 80% of bookings, while 15% of customers book directly without the help of any third party"
      ],
      "metadata": {
        "id": "ngGi97qjphqQ"
      }
    },
    {
      "cell_type": "markdown",
      "source": [
        "##### 3. Will the gained insights help creating a positive business impact?\n",
        "Are there any insights that lead to negative growth? Justify with specific reason."
      ],
      "metadata": {
        "id": "lssrdh5qphqQ"
      }
    },
    {
      "cell_type": "markdown",
      "source": [
        "**Answer Here :**\n",
        "*   Based on my understanding, many customers make their bookings through travel agencies or tour operators (TA/TO). Therefore, we should focus on this category as they are important for us. We should build a network of travel agencies and tour operators and provide them with the best deals.\""
      ],
      "metadata": {
        "id": "tBpY5ekJphqQ"
      }
    },
    {
      "cell_type": "markdown",
      "source": [
        "####  2)Which channel is mostly used for early booking of hotels?"
      ],
      "metadata": {
        "id": "U2RJ9gkRphqQ"
      }
    },
    {
      "cell_type": "code",
      "source": [
        "# Chart - 10 visualization code\n",
        "\n",
        "group_by_dc = df.groupby('distribution_channel')\n",
        "d2 = pd.DataFrame(round(group_by_dc['lead_time'].median(),2)).reset_index().rename(columns = {'lead_time': 'median_lead_time'})\n",
        "plt.figure(figsize = (7,5))\n",
        "sns.barplot(x = d2['distribution_channel'], y = d2['median_lead_time'])\n",
        "plt.show()"
      ],
      "metadata": {
        "id": "GM7a4YP4phqQ"
      },
      "execution_count": null,
      "outputs": []
    },
    {
      "cell_type": "markdown",
      "source": [
        "##### 1. Why did you pick the specific chart?"
      ],
      "metadata": {
        "id": "1M8mcRywphqQ"
      }
    },
    {
      "cell_type": "markdown",
      "source": [
        "**Answer Here.**\n",
        "\n",
        "*   As the problem statement is releted to categerical column distribution_channel and repeted customers median lead time of early booking, So bar chat will be sutable for visualization of repeted customers booking lead time  with respect to each catagory\n",
        "\n",
        "\n"
      ],
      "metadata": {
        "id": "8agQvks0phqQ"
      }
    },
    {
      "cell_type": "markdown",
      "source": [
        "##### 2. What is/are the insight(s) found from the chart?"
      ],
      "metadata": {
        "id": "tgIPom80phqQ"
      }
    },
    {
      "cell_type": "markdown",
      "source": [
        "**Answer Here :**\n",
        "\n",
        "\n",
        "*   As Per the above chart TA/TO channel are mostly used and early booking hoteles\n",
        "\n",
        "\n",
        "\n"
      ],
      "metadata": {
        "id": "Qp13pnNzphqQ"
      }
    },
    {
      "cell_type": "markdown",
      "source": [
        "##### 3. Will the gained insights help creating a positive business impact?\n",
        "Are there any insights that lead to negative growth? Justify with specific reason."
      ],
      "metadata": {
        "id": "JMzcOPDDphqR"
      }
    },
    {
      "cell_type": "markdown",
      "source": [
        "**Answer Here :**\n",
        "\n",
        "*   Based on my analysis, a significant number of bookings are made through travel agents and tour operators. Therefore, if we target new travel agents and tour operators, it could have a positive impact on our business since customers seem to prefer booking through them."
      ],
      "metadata": {
        "id": "R4Ka1PC2phqR"
      }
    },
    {
      "cell_type": "markdown",
      "source": [
        "#### 3)Which channel has a longer average waiting time?"
      ],
      "metadata": {
        "id": "x-EpHcCOp1ci"
      }
    },
    {
      "cell_type": "code",
      "source": [
        "d4 = pd.DataFrame(round((group_by_dc['days_in_waiting_list']).mean(),2)).reset_index().rename(columns = {'days_in_waiting_list': 'avg_waiting_time'})\n",
        "plt.figure(figsize = (7,5))\n",
        "sns.barplot(x = d4['distribution_channel'], y = d4['avg_waiting_time'])\n",
        "plt.show()"
      ],
      "metadata": {
        "id": "mAQTIvtqp1cj"
      },
      "execution_count": null,
      "outputs": []
    },
    {
      "cell_type": "markdown",
      "source": [
        "##### 1. Why did you pick the specific chart?"
      ],
      "metadata": {
        "id": "X_VqEhTip1ck"
      }
    },
    {
      "cell_type": "markdown",
      "source": [
        "**Answer Here.**\n",
        "\n",
        "*   As the problem statement is releted to categerical column longer avg weighting time  and repeted customers median lead time of early booking, So bar chat will be sutable for visualization of repeted customers longer weighting  time with respect to each catagory"
      ],
      "metadata": {
        "id": "-vsMzt_np1ck"
      }
    },
    {
      "cell_type": "markdown",
      "source": [
        "##### 2. What is/are the insight(s) found from the chart?"
      ],
      "metadata": {
        "id": "8zGJKyg5p1ck"
      }
    },
    {
      "cell_type": "markdown",
      "source": [
        "**Answer Here :**\n",
        "\n",
        "*   While booking via TA/TO one may have to wait a little longer to confirm booking of rooms."
      ],
      "metadata": {
        "id": "ZYdMsrqVp1ck"
      }
    },
    {
      "cell_type": "markdown",
      "source": [
        "##### 3. Will the gained insights help creating a positive business impact?\n",
        "Are there any insights that lead to negative growth? Justify with specific reason."
      ],
      "metadata": {
        "id": "PVzmfK_Ep1ck"
      }
    },
    {
      "cell_type": "markdown",
      "source": [
        "**Answer Here:**\n",
        "\n",
        "*   As TA/TO has the longest weigining time so i will be create negetive impact So we can trw to reduse the weiting time in this channel"
      ],
      "metadata": {
        "id": "druuKYZpp1ck"
      }
    },
    {
      "cell_type": "markdown",
      "source": [
        "#### 4)Which distribution channel brings better revenue-generating deals for hotels?"
      ],
      "metadata": {
        "id": "n3dbpmDWp1ck"
      }
    },
    {
      "cell_type": "code",
      "source": [
        "group_by_dc_hotel = df.groupby(['distribution_channel', 'hotel'])\n",
        "d5 = pd.DataFrame(round((group_by_dc_hotel['adr']).agg(np.mean),2)).reset_index().rename(columns = {'adr': 'avg_adr'})\n",
        "plt.figure(figsize = (7,5))\n",
        "sns.barplot(x = d5['distribution_channel'], y = d5['avg_adr'], hue = d5['hotel'])\n",
        "plt.ylim(40,140)\n",
        "plt.show()"
      ],
      "metadata": {
        "id": "bwevp1tKp1ck"
      },
      "execution_count": null,
      "outputs": []
    },
    {
      "cell_type": "markdown",
      "source": [
        "##### 1. Why did you pick the specific chart?"
      ],
      "metadata": {
        "id": "ylSl6qgtp1ck"
      }
    },
    {
      "cell_type": "markdown",
      "source": [
        "**Answer Here:**\n",
        "\n",
        "\n",
        "*   As the problem statement is releted to categerical column avg adr and repeted customers median lead time of early booking, So bar chat will be sutable for visualization of repeted customers avg adr with respect to each catagory\n",
        "\n",
        "\n",
        "\n"
      ],
      "metadata": {
        "id": "m2xqNkiQp1ck"
      }
    },
    {
      "cell_type": "markdown",
      "source": [
        "##### 2. What is/are the insight(s) found from the chart?"
      ],
      "metadata": {
        "id": "ZWILFDl5p1ck"
      }
    },
    {
      "cell_type": "markdown",
      "source": [
        "**Answer Here**:\n",
        "\n",
        "*   The GDS channel has been found to bring in more high-revenue generating deals for the City Hotel compared to most bookings that come through travel agent/tour operator (TA/TO) channels."
      ],
      "metadata": {
        "id": "x-lUsV2mp1ck"
      }
    },
    {
      "cell_type": "markdown",
      "source": [
        "##### 3. Will the gained insights help creating a positive business impact?\n",
        "Are there any insights that lead to negative growth? Justify with specific reason."
      ],
      "metadata": {
        "id": "M7G43BXep1ck"
      }
    },
    {
      "cell_type": "markdown",
      "source": [
        "**Answer Here:**\n",
        "\n",
        "*   To increase their revenue, City Hotel can focus on increasing their outreach on GDS channels to attract more high-revenue generating deals. On the other hand, the Resort Hotel has been generating more revenue through direct bookings and TA/TO channels."
      ],
      "metadata": {
        "id": "5wwDJXsLp1cl"
      }
    },
    {
      "cell_type": "markdown",
      "source": [
        "####  5)Which significant distribution channel has the highest cancellation percentage?"
      ],
      "metadata": {
        "id": "Ag9LCva-p1cl"
      }
    },
    {
      "cell_type": "code",
      "source": [
        "# Chart - 13 visualization code\n",
        "\n",
        "d1 = pd.DataFrame((group_by_dc['is_canceled'].sum()/group_by_dc.size())*100).drop(index = 'Undefined').rename(columns = {0: 'Cancel_%'})\n",
        "plt.figure(figsize = (10,5))\n",
        "sns.barplot(x = d1.index, y = d1['Cancel_%'])\n",
        "plt.show()"
      ],
      "metadata": {
        "id": "EUfxeq9-p1cl"
      },
      "execution_count": null,
      "outputs": []
    },
    {
      "cell_type": "markdown",
      "source": [
        "##### 1. Why did you pick the specific chart?"
      ],
      "metadata": {
        "id": "E6MkPsBcp1cl"
      }
    },
    {
      "cell_type": "markdown",
      "source": [
        "**Answer Here:**\n",
        "*   As the problem statement is releted to categerical column distribution_channel and repeted customers cancelation percentage, So bar chat will be sutable for visualization of repeted customers cancelation with respect to each catagory\n",
        "\n",
        "\n",
        "\n"
      ],
      "metadata": {
        "id": "V22bRsFWp1cl"
      }
    },
    {
      "cell_type": "markdown",
      "source": [
        "##### 2. What is/are the insight(s) found from the chart?"
      ],
      "metadata": {
        "id": "2cELzS2fp1cl"
      }
    },
    {
      "cell_type": "markdown",
      "source": [
        "**Answer Here :**\n",
        "\n",
        "*   As per the above chart 30% of cancelation are TA/TO followed by GDS and Direct"
      ],
      "metadata": {
        "id": "ozQPc2_Ip1cl"
      }
    },
    {
      "cell_type": "markdown",
      "source": [
        "##### 3. Will the gained insights help creating a positive business impact?\n",
        "Are there any insights that lead to negative growth? Justify with specific reason."
      ],
      "metadata": {
        "id": "3MPXvC8up1cl"
      }
    },
    {
      "cell_type": "markdown",
      "source": [
        "**Answer Here**:\n",
        "\n",
        "\n",
        "\n",
        "\n",
        "*   It will careate the negetive impact so we need to focuse to improve the bussiness"
      ],
      "metadata": {
        "id": "GL8l1tdLp1cl"
      }
    },
    {
      "cell_type": "markdown",
      "source": [
        "**TIME WISE ANALYSIS**"
      ],
      "metadata": {
        "id": "m8DJ1OvnGFbx"
      }
    },
    {
      "cell_type": "markdown",
      "source": [
        "#### 1)Which are the most busy months?"
      ],
      "metadata": {
        "id": "NC_X3p0fY2L0"
      }
    },
    {
      "cell_type": "code",
      "source": [
        "#Which are the most busy months?\n",
        "d_month = df['arrival_date_month'].value_counts().reset_index()\n",
        "d_month.columns=['months','Number of guests']\n",
        "d_month\n",
        "months = ['January', 'February', 'March', 'April', 'May', 'June', 'July', 'August', 'September', 'October', 'November', 'December']\n",
        "d_month['months'] = pd.Categorical(d_month['months'], categories=months, ordered=True)\n",
        "d_month.sort_values('months').reset_index()\n",
        "\n",
        "\n",
        "data_resort = df[(df['hotel'] == 'Resort Hotel') & (df['is_canceled'] == 0)]\n",
        "data_city = df[(df['hotel'] == 'City Hotel') & (df['is_canceled'] == 0)]\n",
        "resort_hotel = data_resort.groupby(['arrival_date_month'])['adr'].mean().reset_index()\n",
        "city_hotel=data_city.groupby(['arrival_date_month'])['adr'].mean().reset_index()\n",
        "final_hotel = resort_hotel.merge(city_hotel, on = 'arrival_date_month')\n",
        "final_hotel.columns = ['month', 'price_for_resort', 'price_for_city_hotel']\n",
        "final_hotel\n",
        "\n",
        "resort_guest = data_resort['arrival_date_month'].value_counts().reset_index()\n",
        "resort_guest.columns=['month','no of guests']\n",
        "resort_guest\n",
        "\n",
        "city_guest = data_city['arrival_date_month'].value_counts().reset_index()\n",
        "city_guest.columns=['month','no of guests']\n",
        "city_guest\n",
        "\n",
        "final_guest=resort_guest.merge(city_guest, on = 'month')\n",
        "final_guest.columns=['month','no of guests in resort','no of guest in city hotel']\n",
        "final_guest\n",
        "months = ['January', 'February', 'March', 'April', 'May', 'June', 'July', 'August', 'September', 'October', 'November', 'December']\n",
        "final_guest['month'] = pd.Categorical(final_guest['month'], categories=months, ordered=True)\n",
        "final_guest = final_guest.sort_values('month').reset_index()\n",
        "\n",
        "#Which month get most visitors?\n",
        "sns.lineplot(data=final_guest, x='month', y='no of guests in resort')\n",
        "sns.lineplot(data=final_guest, x='month', y='no of guest in city hotel')\n",
        "plt.legend(['Resort','City Hotel'])\n",
        "plt.ylabel('Number of guest')\n",
        "fig = plt.gcf()\n",
        "fig.set_size_inches(14,8)"
      ],
      "metadata": {
        "id": "xyC9zolEZNRQ"
      },
      "execution_count": null,
      "outputs": []
    },
    {
      "cell_type": "markdown",
      "source": [
        "##### 1. Why did you pick the specific chart?"
      ],
      "metadata": {
        "id": "UV0SzAkaZNRQ"
      }
    },
    {
      "cell_type": "markdown",
      "source": [
        "**Answer Here:**\n",
        "\n",
        "*   As the problem statement is releted to categerical column month and repeted customers number of gusts, So bar line bat chat will be sutable for visualization of number of customeres with respect to month\n",
        "\n"
      ],
      "metadata": {
        "id": "DVPuT8LYZNRQ"
      }
    },
    {
      "cell_type": "markdown",
      "source": [
        "##### 2. What is/are the insight(s) found from the chart?"
      ],
      "metadata": {
        "id": "YPEH6qLeZNRQ"
      }
    },
    {
      "cell_type": "markdown",
      "source": [
        "**Answer Here :**\n",
        "\n",
        "\n",
        "\n",
        "*   Most number of gusts are comming in the augest forweed of june,may and march\n",
        "\n",
        "\n"
      ],
      "metadata": {
        "id": "bfSqtnDqZNRR"
      }
    },
    {
      "cell_type": "markdown",
      "source": [
        "#### 2)Which month generates high revenue for the hotel?"
      ],
      "metadata": {
        "id": "q29F0dvdveiT"
      }
    },
    {
      "cell_type": "code",
      "source": [
        "data_resort = df[(df['hotel'] == 'Resort Hotel') & (df['is_canceled'] == 0)]\n",
        "data_city = df[(df['hotel'] == 'City Hotel') & (df['is_canceled'] == 0)]"
      ],
      "metadata": {
        "id": "o58-TEIhveiU"
      },
      "execution_count": null,
      "outputs": []
    },
    {
      "cell_type": "code",
      "source": [
        "resort_hotel = data_resort.groupby(['arrival_date_month'])['adr'].mean().reset_index()\n",
        "city_hotel=data_city.groupby(['arrival_date_month'])['adr'].mean().reset_index()\n",
        "final_hotel = resort_hotel.merge(city_hotel, on = 'arrival_date_month')\n",
        "final_hotel.columns = ['month', 'price_for_resort', 'price_for_city_hotel']\n",
        "months = ['January', 'February', 'March', 'April', 'May', 'June', 'July', 'August', 'September', 'October', 'November', 'December']\n",
        "final_hotel['month'] = pd.Categorical(final_hotel['month'], categories=months, ordered=True)\n",
        "final_hotel = final_hotel.sort_values('month').reset_index()\n",
        "sns.lineplot(data=final_hotel, x='month', y='price_for_resort')\n",
        "sns.lineplot(data=final_hotel, x='month', y='price_for_city_hotel')\n",
        "plt.legend(['Resort','City Hotel'])\n",
        "plt.ylabel('adr')\n",
        "fig = plt.gcf()\n",
        "fig.set_size_inches(14,8)"
      ],
      "metadata": {
        "id": "qw9lBA0tGhLS"
      },
      "execution_count": null,
      "outputs": []
    },
    {
      "cell_type": "markdown",
      "source": [
        "##### 1. Why did you pick the specific chart?"
      ],
      "metadata": {
        "id": "EXh0U9oCveiU"
      }
    },
    {
      "cell_type": "markdown",
      "source": [
        "**Answer Here :**\n",
        "\n",
        "*   As the problem statement is releted to categerical column month and repeted hotel adr, So bar line bat chat will be sutable for visualization of adr with respect to month\n",
        "\n",
        "\n"
      ],
      "metadata": {
        "id": "eMmPjTByveiU"
      }
    },
    {
      "cell_type": "markdown",
      "source": [
        "##### 2. What is/are the insight(s) found from the chart?"
      ],
      "metadata": {
        "id": "22aHeOlLveiV"
      }
    },
    {
      "cell_type": "markdown",
      "source": [
        "**Answer Here :**\n",
        "\n",
        "*   For the City Hotel Augest Monts Generats the high Revenue. and for the Resort Hotel generates high revenue in the month of May"
      ],
      "metadata": {
        "id": "uPQ8RGwHveiV"
      }
    },
    {
      "cell_type": "markdown",
      "source": [
        "### 3)we will check the trend of arrival_num and avg adr within a month?"
      ],
      "metadata": {
        "id": "LUF2gDw3G7bk"
      }
    },
    {
      "cell_type": "code",
      "source": [
        "\n",
        "d6 = pd.DataFrame(not_canceled.groupby('arrival_date_day_of_month').size()).rename(columns = {0:'Arrival_num'})\n",
        "d6['avg_adr'] = not_canceled.groupby('arrival_date_day_of_month')['adr'].agg(np.mean)\n",
        "fig, axes = plt.subplots(1, 2, figsize=(18, 8))\n",
        "\n",
        "# Plotting arrival num for each day of month\n",
        "g = sns.lineplot(ax = axes[0],x = d6.index, y = d6['Arrival_num'])\n",
        "g.grid()\n",
        "g.set_xticks([1,7,14,21,28,31])\n",
        "g.set_xticklabels([1,7,14,21,28,31])\n",
        "\n",
        "# Plotting avg adr for each day of month\n",
        "h = sns.lineplot(ax = axes[1],x = d6.index, y = d6['avg_adr'])\n",
        "h.grid()\n",
        "h.set_xticks([1,7,14,21,28,31])\n",
        "h.set_xticklabels([1,7,14,21,28,31])\n",
        "\n",
        "plt.show()"
      ],
      "metadata": {
        "id": "BTKZYVVPG5L8"
      },
      "execution_count": null,
      "outputs": []
    },
    {
      "cell_type": "markdown",
      "source": [
        "##### 2. What is/are the insight(s) found from the chart?"
      ],
      "metadata": {
        "id": "ITEcTXxY2ZGl"
      }
    },
    {
      "cell_type": "markdown",
      "source": [
        "We can observe that the \"Arrival_num\" graph displays small peaks at consistent intervals of days, which could be attributed to an increase in weekend arrivals. Additionally, the average ADR (average daily rate) tends to rise towards the end of each month. As a result, it may be beneficial to charge higher rates during this period."
      ],
      "metadata": {
        "id": "_no2zeOZ2OgD"
      }
    },
    {
      "cell_type": "markdown",
      "source": [
        "### 4)Witch catagery customers mader the most bookings ?"
      ],
      "metadata": {
        "id": "0SiHaUIoHXom"
      }
    },
    {
      "cell_type": "code",
      "source": [
        "## We divide the customers into Three Catagares single, coluples,family\n",
        "## Select single, couple, multiple adults and family\n",
        "single   = not_canceled[(not_canceled['adults']==1) & (not_canceled['children']==0) & (not_canceled['babies']==0)]\n",
        "couple   = not_canceled[(not_canceled['adults']==2) & (not_canceled['children']==0) & (not_canceled['babies']==0)]\n",
        "family   = not_canceled[not_canceled['adults'] + not_canceled['children'] + not_canceled['babies'] > 2]\n",
        "\n",
        "reindex = ['January', 'February','March','April','May','June','July','August','September','October','November','December']\n",
        "\n",
        "fig, ax = plt.subplots(figsize=(12, 8))\n",
        "\n",
        "for type in ['single', 'couple', 'family']:\n",
        "  d1 = eval(type).groupby(['arrival_date_month']).size().reset_index().rename(columns = {0:'arrival_num'})\n",
        "  d1['arrival_date_month'] = pd.Categorical(d1['arrival_date_month'],categories=reindex,ordered=True)\n",
        "  sns.lineplot(data=d1, x= 'arrival_date_month', y='arrival_num', label=type, ax=ax)\n",
        "\n",
        "plt.grid()\n",
        "plt.show()"
      ],
      "metadata": {
        "id": "KKje2NmEHVRt"
      },
      "execution_count": null,
      "outputs": []
    },
    {
      "cell_type": "markdown",
      "source": [
        "##### 2. What is/are the insight(s) found from the chart?"
      ],
      "metadata": {
        "id": "NDyLkGc34AHm"
      }
    },
    {
      "cell_type": "markdown",
      "source": [
        "The majority of bookings were made by couples in August, and the next highest number of bookings came from families also in August."
      ],
      "metadata": {
        "id": "9ch_xnEl3TXV"
      }
    },
    {
      "cell_type": "markdown",
      "source": [
        "### 5)From witch country customers are mostly wisiting ?"
      ],
      "metadata": {
        "id": "hyASiMbhIWIw"
      }
    },
    {
      "cell_type": "code",
      "source": [
        "country_wise_guests = df[df['is_canceled'] == 0]['country'].value_counts().reset_index()\n",
        "country_wise_guests.columns = ['country', 'No of guests']\n",
        "country_wise_guests"
      ],
      "metadata": {
        "id": "5DFuMY7rIfi_"
      },
      "execution_count": null,
      "outputs": []
    },
    {
      "cell_type": "code",
      "source": [
        "basemap = folium.Map()\n",
        "guests_map = px.choropleth(country_wise_guests, locations = country_wise_guests['country'],color = country_wise_guests['No of guests'], hover_name = country_wise_guests['country'])\n",
        "guests_map.show()"
      ],
      "metadata": {
        "id": "WAy3BENMIpKo"
      },
      "execution_count": null,
      "outputs": []
    },
    {
      "cell_type": "code",
      "source": [
        "grouped_by_country = df.groupby('country')\n",
        "d1 = pd.DataFrame(grouped_by_country.size()).reset_index().rename(columns = {0:'Count'}).sort_values('Count', ascending = False)[:10]\n",
        "sns.barplot(x = d1['country'], y  = d1['Count'])\n",
        "plt.show()"
      ],
      "metadata": {
        "id": "7EeO6ln1Iu72"
      },
      "execution_count": null,
      "outputs": []
    },
    {
      "cell_type": "markdown",
      "source": [
        "##### 2. What is/are the insight(s) found from the chart?"
      ],
      "metadata": {
        "id": "qHP2_fO-4jxB"
      }
    },
    {
      "cell_type": "markdown",
      "source": [
        "**Answer Hear:**\n",
        "\n",
        "\n",
        "*   Most of the peoples are comming from the Portugal\n",
        "\n",
        "\n"
      ],
      "metadata": {
        "id": "Ya_MTrrj4ObE"
      }
    },
    {
      "cell_type": "markdown",
      "source": [
        "### 1) what is the coorelation betweeen numerical varables?"
      ],
      "metadata": {
        "id": "w5g_ZYMhlpAR"
      }
    },
    {
      "cell_type": "code",
      "source": [
        "num_df = df[['lead_time','previous_cancellations','previous_bookings_not_canceled','booking_changes','days_in_waiting_list','adr','required_car_parking_spaces','total_of_special_requests','total_stay','total_people']]"
      ],
      "metadata": {
        "id": "SiKO4FOImUGa"
      },
      "execution_count": null,
      "outputs": []
    },
    {
      "cell_type": "code",
      "source": [
        "#correlation matrix\n",
        "corrmat = num_df.corr()\n",
        "f, ax = plt.subplots(figsize=(10, 6))\n",
        "sns.heatmap(corrmat,annot = True,fmt='.2f', annot_kws={'size': 10},  vmax=.8, square=True);"
      ],
      "metadata": {
        "id": "BfMWYiKimUC_"
      },
      "execution_count": null,
      "outputs": []
    },
    {
      "cell_type": "markdown",
      "source": [
        "**Answer Hear**\n",
        "\n",
        "*   Total stay length and lead time have slight correlation. This may means that for longer hotel stays people generally plan little before the the actual arrival.\n",
        "*   adr is slightly correlated with total_people, which makes sense as more no. of people means more revenue, therefore more adr.\n",
        "\n",
        "\n",
        "\n",
        "\n",
        "\n"
      ],
      "metadata": {
        "id": "Z9oRaYhMoB7X"
      }
    },
    {
      "cell_type": "markdown",
      "source": [
        "## **5. Solution to Business Objective**"
      ],
      "metadata": {
        "id": "JcMwzZxoAimU"
      }
    },
    {
      "cell_type": "markdown",
      "source": [
        "#### What do you suggest the client to achieve Business Objective ?\n",
        "#### If the business is performing well, we should concentrate on enhancing it further. However, it's crucial to be mindful of any negative factors that could affect the business and prioritize addressing them to convert the negative aspects into positive ones.\n",
        "\n",
        "\n",
        "\n",
        "\n",
        "1) How to Decrease the cancellation percentage?\n",
        "\n",
        "Solution :It's important to focus on reducing the number of cancellations in order to maintain a positive business. One way to achieve this could be by implementing policies where customers receive a refund based on the cancellation and booking duration.\n",
        "\n",
        "2) How to Improve bookings of customers?\n",
        "\n",
        "Solution :  A large number of customers book hotels through travel agents, so it's crucial to focus on improving relationships with these agents to attract new business. Providing them with the best deals and incentives could help improve bookings.\n",
        "\n",
        "\n",
        "3) How to Convert long-stay city hotel customers to resort hotels ?\n",
        "\n",
        "Solution : Many long-stay customers prefer city hotels, but resort hotels can generate more revenue. To encourage these customers to book resort hotels, agents could be offered better deals and incentives to convince them to make the switch.\n",
        "\n",
        "\n",
        "4) Is it a positive desiction to Increase hotel booking prices ?\n",
        "\n",
        "Solution : yes, In some cases, it can be beneficial to increase hotel prices during peak seasons when demand is high. For example, raising prices for city hotels during the busy month of August could help generate more revenue\n",
        "\n",
        "5) Global Distribution System for resort hitel bookings ?\n",
        "\n",
        "Global Distribution System there are no booking for the resort hotel, if focuse these resort hotels through GDS it be help full for the postive impact"
      ],
      "metadata": {
        "id": "8G2x9gOozGDZ"
      }
    },
    {
      "cell_type": "markdown",
      "source": [
        "# **Conclusion**"
      ],
      "metadata": {
        "id": "gCX9965dhzqZ"
      }
    },
    {
      "cell_type": "markdown",
      "source": [
        "\n",
        "\n",
        "1.   The City hotel receives around 60% of bookings, making it busier than the Resort hotel. Both hotels have higher booking cancellation rates, but the City hotel has a lower rate of returning guests. The overall average daily rate (adr) of the City hotel is slightly higher than the Resort hotel.\n",
        "\n",
        "1.   Most guests stay for less than 5 days in a hotel, while the Resort hotel is preferred for longer stays.\n",
        "\n",
        "1.   Both hotels experience high booking cancellation rates, with few guests returning for another booking at the City hotel. The majority of guests come from European countries, with Portugal being the most common country of origin. The TA/TO channel is the most popular way for guests to make bookings, although a high percentage of bookings made through this channel are cancelled.\n",
        "\n",
        "1.   GDS channel provides higher adr deals for hotels, so increasing popularity on this channel can benefit hotels.\n",
        "\n",
        "1.   July-August are the busiest and most profitable months for both hotels. Within a month, the adr gradually increases as the month ends, with a small sudden rise on weekends.\n",
        "\n",
        "1.   Couples are the most common type of guests, and their needs can be catered to in order to increase revenue. Larger groups of guests tend to make more special requests.\n",
        "\n",
        "1.   Bookings made through complementary market segments and for adults have a higher average number of special requests.\n",
        "2.   Generally, longer stays (more than 15 days) can result in better deals in terms of lower adr. Not getting the same reserved room, longer lead times, and waiting times do not significantly affect booking cancellations, but a different room allotment can lower the adr.\n",
        "\n",
        "\n",
        "\n",
        "\n",
        "\n",
        "\n",
        "\n",
        "\n",
        "\n"
      ],
      "metadata": {
        "id": "Fjb1IsQkh3yE"
      }
    },
    {
      "cell_type": "markdown",
      "source": [
        "### ***Hurrah! You have successfully completed your EDA Capstone Project !!!***"
      ],
      "metadata": {
        "id": "gIfDvo9L0UH2"
      }
    }
  ]
}